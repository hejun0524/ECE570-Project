{
 "cells": [
  {
   "cell_type": "code",
   "execution_count": null,
   "metadata": {},
   "outputs": [
    {
     "name": "stderr",
     "output_type": "stream",
     "text": [
      "  3%|▎         | 12/360 [39:37<19:40:57, 203.61s/it]"
     ]
    }
   ],
   "source": [
    "from src.instance.read import load\n",
    "from src.learning.run import simulate\n",
    "\n",
    "import gymnasium as gym\n",
    "\n",
    "gym.logger.set_level(gym.logger.DISABLED)\n",
    "\n",
    "simulate(\n",
    "    instance=load(\"testcase\"),\n",
    "    n_days=30,\n",
    "    n_train=3600,\n",
    "    save_as=\"result.json\",\n",
    ")"
   ]
  },
  {
   "cell_type": "code",
   "execution_count": null,
   "metadata": {},
   "outputs": [],
   "source": [
    "from src.utils.grapher import Grapher\n",
    "\n",
    "grapher = Grapher(\n",
    "    fnames=[f\"result.json\"],\n",
    "    fshape=\"testcase/shape.json\",\n",
    "    figsize=(9,3)\n",
    ")"
   ]
  },
  {
   "cell_type": "code",
   "execution_count": null,
   "metadata": {},
   "outputs": [],
   "source": [
    "grapher.plot_shapes(figsize=(6, 4), save_as=\"load_shape.png\")\n",
    "grapher.plot_prices(5, save_as=\"hub_first.png\")\n",
    "grapher.plot_prices(-5, save_as=\"hub_last.png\")\n",
    "grapher.plot_battery_levels(-5, save_as=\"avg_storage.png\")\n",
    "grapher.plot_actions(-5, save_as=\"avg_action.png\")"
   ]
  }
 ],
 "metadata": {
  "kernelspec": {
   "display_name": ".venv",
   "language": "python",
   "name": "python3"
  },
  "language_info": {
   "codemirror_mode": {
    "name": "ipython",
    "version": 3
   },
   "file_extension": ".py",
   "mimetype": "text/x-python",
   "name": "python",
   "nbconvert_exporter": "python",
   "pygments_lexer": "ipython3",
   "version": "3.10.11"
  }
 },
 "nbformat": 4,
 "nbformat_minor": 2
}
